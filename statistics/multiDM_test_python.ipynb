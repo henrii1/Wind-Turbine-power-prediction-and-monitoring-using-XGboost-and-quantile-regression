{
  "nbformat": 4,
  "nbformat_minor": 0,
  "metadata": {
    "colab": {
      "provenance": []
    },
    "kernelspec": {
      "name": "python3",
      "display_name": "Python 3"
    },
    "language_info": {
      "name": "python"
    }
  },
  "cells": [
    {
      "cell_type": "code",
      "source": [
        "import tensorflow as tf\n",
        "import scipy as sc\n",
        "import pandas as pd\n",
        "import numpy as np\n",
        "import time\n",
        "from sklearn.metrics import *\n",
        "import xgboost as xgb\n",
        "from sklearn.preprocessing import MinMaxScaler\n",
        "from keras.losses import binary_crossentropy\n",
        "from keras.layers import Dense, Flatten, Layer\n",
        "from tensorflow.keras.models import Sequential\n",
        "from tensorflow.keras.layers import Dense, Dropout\n",
        "from sklearn.metrics import r2_score\n",
        "from keras import backend as K\n",
        "from sklearn.model_selection import train_test_split"
      ],
      "metadata": {
        "id": "5yUKprnz9xKL"
      },
      "execution_count": 1,
      "outputs": []
    },
    {
      "cell_type": "code",
      "source": [
        "class RBFLayer(Layer):\n",
        "    def __init__(self, units, gamma, **kwargs):\n",
        "        super(RBFLayer, self).__init__(**kwargs)\n",
        "        self.units = units\n",
        "        self.gamma = K.cast_to_floatx(gamma)\n",
        "\n",
        "    def build(self, input_shape):\n",
        "#         print(input_shape)\n",
        "#         print(self.units)\n",
        "        self.mu = self.add_weight(name='mu',\n",
        "                                  shape=(int(input_shape[1]), self.units),\n",
        "                                  initializer='uniform',\n",
        "                                  trainable=True)\n",
        "        super(RBFLayer, self).build(input_shape)\n",
        "\n",
        "    def call(self, inputs):\n",
        "        diff = K.expand_dims(inputs) - self.mu\n",
        "        l2 = K.sum(K.pow(diff, 2), axis=1)\n",
        "        res = K.exp(-1 * self.gamma * l2)\n",
        "        return res\n",
        "\n",
        "    def compute_output_shape(self, input_shape):\n",
        "        return (input_shape[0], self.units)"
      ],
      "metadata": {
        "id": "TXwnTEAB6Xwx"
      },
      "execution_count": 2,
      "outputs": []
    },
    {
      "cell_type": "code",
      "source": [
        "data_dir = 'https://github.com/henrii1/Wind-Turbine-power-prediction-and-monitoring-using-XGboost-and-quantile-regression/blob/main/data/kelmarsh_02.xlsx?raw=true'\n",
        "data = pd.read_excel(data_dir)\n",
        "data.isna().sum()\n",
        "\n",
        "def outlier_remover(dat, prop, min, max):\n",
        "    d = dat\n",
        "    q_low = d[prop].quantile(min)\n",
        "    q_high = d[prop].quantile(max)\n",
        "    return d[(d[prop]<q_high) & (d[prop]>q_low)]\n",
        "\n",
        "d1 = {}\n",
        "step = 50\n",
        "i = 1\n",
        "for x in range(20, 3100, step):\n",
        "    d1[i] = data.iloc[((data['power']>=x)& (data['power']<x+step)).values]\n",
        "    i = i + 1\n",
        "\n",
        "d1[-2] = data.iloc[(data['power']>=2900).values]\n",
        "\n",
        "for x in range(1, 62):\n",
        "    if x <= 3:\n",
        "        F = 0.95\n",
        "    elif ((x > 3) and (x <= 10)):\n",
        "        F = 0.9\n",
        "    elif ((x > 10) and (x <= 20)):\n",
        "        F = 0.92\n",
        "    elif ((x > 20) and (x <= 30)):\n",
        "        F = 0.96\n",
        "    else:\n",
        "        F = 0.985\n",
        "    d1[x] = outlier_remover(d1[x], 'wind speed', 0.00001, F)\n",
        "\n",
        "\n",
        "df = pd.DataFrame()\n",
        "for infile in range (1, 62):\n",
        "    data = d1[infile]\n",
        "    df = df.append(data, ignore_index = True)\n",
        "\n",
        "da = df.drop(columns=['date'])\n",
        "da.dropna()\n",
        "scaler = MinMaxScaler(feature_range =(0, 1))\n",
        "data_ = scaler.fit_transform(da)\n",
        "data_x = data_[:, :-1]\n",
        "data_y = data_[:, -1]\n",
        "\n",
        "x_train, x_test, y_train, y_test = train_test_split(data_x, data_y, test_size = 0.001, random_state = 1)\n"
      ],
      "metadata": {
        "id": "9A-ZzC3A6ZGI"
      },
      "execution_count": 3,
      "outputs": []
    },
    {
      "cell_type": "code",
      "source": [
        "def eval_metrics(actual, pred):\n",
        "    rmse = np.sqrt(mean_squared_error(actual, pred))\n",
        "    mae = mean_absolute_error(actual, pred)\n",
        "    r2 = r2_score(actual, pred)\n",
        "    print(f'xgboost_RMSE:{rmse}')\n",
        "    print(f'xgboost_MAE:{mae}')\n",
        "    print(f'xgboost_R_SCORE:{r2}')"
      ],
      "metadata": {
        "id": "M0qWwLYr6ZIt"
      },
      "execution_count": 4,
      "outputs": []
    },
    {
      "cell_type": "code",
      "source": [
        "best_xgb_model = xgb.XGBRegressor(colsample_bytree=0.4,\n",
        "                 gamma=0,                 \n",
        "                 learning_rate=0.07,\n",
        "                 max_depth=3,\n",
        "                 min_child_weight=1.5,\n",
        "                 n_estimators=10000,                                                                    \n",
        "                 reg_alpha=0.75,\n",
        "                 reg_lambda=0.45,\n",
        "                 subsample=0.6,\n",
        "                 seed=42)\n",
        "\n",
        "\n",
        "best_xgb_model.fit(x_train,y_train)\n",
        "pred1 = best_xgb_model.predict(x_test)\n",
        "\n",
        "xgboost_model = eval_metrics(y_test, pred1)\n",
        "print(f' xgboost cummulative accuracy is: {xgboost_model}')"
      ],
      "metadata": {
        "colab": {
          "base_uri": "https://localhost:8080/"
        },
        "id": "nRcM0bOf6ZLR",
        "outputId": "d942a934-e811-494c-8b99-2bb615543167"
      },
      "execution_count": 5,
      "outputs": [
        {
          "output_type": "stream",
          "name": "stdout",
          "text": [
            "[18:40:56] WARNING: /workspace/src/objective/regression_obj.cu:152: reg:linear is now deprecated in favor of reg:squarederror.\n",
            "xgboost_RMSE:0.024752246550036723\n",
            "xgboost_MAE:0.019512270052812506\n",
            "xgboost_R_SCORE:0.9953668417712919\n",
            " xgboost cummulative accuracy is: None\n"
          ]
        }
      ]
    },
    {
      "cell_type": "code",
      "source": [
        "print(f'the ground truth result is: {y_test}')"
      ],
      "metadata": {
        "colab": {
          "base_uri": "https://localhost:8080/"
        },
        "id": "P1QsCyMn6ZNi",
        "outputId": "b6ceb449-d512-4ca5-b45f-60d009b5b907"
      },
      "execution_count": 6,
      "outputs": [
        {
          "output_type": "stream",
          "name": "stdout",
          "text": [
            "the ground truth result is: [0.78256331 0.01013892 0.93909211 0.93171893 0.97838549 0.9377304\n",
            " 0.05729306 0.96406324 0.30674558 0.88423513 0.98838939 0.52518533\n",
            " 0.15899424 0.10595266 0.08948024 0.49998389 0.36971785 0.22523765\n",
            " 0.604794   0.04048216 0.55971815 0.00409338 0.06031447 0.832428\n",
            " 0.02997866 0.26498554 0.07152355 0.9884246  0.0168044  0.64804015\n",
            " 0.2965188  0.14913114 0.9497351  0.05940566 0.98500799 0.22879337\n",
            " 0.09548048 0.19285071 0.14934963 0.33025048 0.22191112 0.15581709\n",
            " 0.14532238 0.98067324]\n"
          ]
        }
      ]
    },
    {
      "cell_type": "code",
      "source": [
        "print(f\"xgboost predicted results is: {pred1}\")"
      ],
      "metadata": {
        "colab": {
          "base_uri": "https://localhost:8080/"
        },
        "id": "6ig_eo9O6ZRE",
        "outputId": "f24b9d46-9ade-4cc2-e1fb-ca07bb26d3bd"
      },
      "execution_count": 7,
      "outputs": [
        {
          "output_type": "stream",
          "name": "stdout",
          "text": [
            "xgboost predicted results is: [ 8.29985440e-01  1.77671611e-02  9.56698060e-01  9.61145520e-01\n",
            "  9.46979105e-01  9.48828697e-01  6.03212416e-02  9.85562801e-01\n",
            "  3.29594433e-01  9.06087399e-01  9.80348229e-01  5.13096571e-01\n",
            "  1.51456267e-01  1.30639166e-01  8.83782506e-02  5.34057379e-01\n",
            "  4.02792037e-01  2.07528979e-01  5.35880804e-01  7.01160431e-02\n",
            "  6.09420657e-01 -4.75645065e-04  5.09648025e-02  7.93050408e-01\n",
            "  2.49950886e-02  2.27256447e-01  9.86234546e-02  9.77386892e-01\n",
            "  1.02862120e-02  6.48894072e-01  2.86471635e-01  1.75332725e-01\n",
            "  9.29428935e-01  5.14818132e-02  9.83720958e-01  2.13099808e-01\n",
            "  1.09760076e-01  1.88424677e-01  1.32155061e-01  3.44749600e-01\n",
            "  2.63763487e-01  1.92096978e-01  1.46066099e-01  9.74765480e-01]\n"
          ]
        }
      ]
    },
    {
      "cell_type": "code",
      "source": [
        "model1_1A = Sequential()\n",
        "model1_1A.add(Dense(128, input_dim = (3)))\n",
        "model1_1A.add(RBFLayer(64, 0.5))\n",
        "model1_1A.add(Dense(1, activation='sigmoid', name= 'output'))\n",
        "model1_1A.summary()"
      ],
      "metadata": {
        "colab": {
          "base_uri": "https://localhost:8080/"
        },
        "id": "dKqzgw7q7Hmy",
        "outputId": "3defcc86-3114-466e-883e-3694215c1d1c"
      },
      "execution_count": 8,
      "outputs": [
        {
          "output_type": "stream",
          "name": "stdout",
          "text": [
            "Model: \"sequential\"\n",
            "_________________________________________________________________\n",
            " Layer (type)                Output Shape              Param #   \n",
            "=================================================================\n",
            " dense (Dense)               (None, 128)               512       \n",
            "                                                                 \n",
            " rbf_layer (RBFLayer)        (None, 64)                8192      \n",
            "                                                                 \n",
            " output (Dense)              (None, 1)                 65        \n",
            "                                                                 \n",
            "=================================================================\n",
            "Total params: 8,769\n",
            "Trainable params: 8,769\n",
            "Non-trainable params: 0\n",
            "_________________________________________________________________\n"
          ]
        }
      ]
    },
    {
      "cell_type": "code",
      "source": [
        "model1_1A.compile(optimizer='adam',\n",
        "              loss=binary_crossentropy,\n",
        "              metrics=[\n",
        "                       tf.keras.metrics.RootMeanSquaredError(),\n",
        "                       tf.keras.metrics.MeanAbsoluteError(),\n",
        "                       ])"
      ],
      "metadata": {
        "id": "h57UtCQp7HpT"
      },
      "execution_count": 9,
      "outputs": []
    },
    {
      "cell_type": "code",
      "source": [
        "history1_1A = model1_1A.fit(x_train, y_train, epochs=50, batch_size=50, verbose=1)\n",
        "\n",
        "\n",
        "rbf_pred1 = model1_1A.predict(x_test)\n",
        "print(r2_score(y_test, rbf_pred1))"
      ],
      "metadata": {
        "colab": {
          "base_uri": "https://localhost:8080/"
        },
        "id": "Ct9_TyKD7Hrm",
        "outputId": "2690f76a-57f6-4af6-b976-6966c279d482"
      },
      "execution_count": 10,
      "outputs": [
        {
          "output_type": "stream",
          "name": "stdout",
          "text": [
            "Epoch 1/50\n",
            "868/868 [==============================] - 7s 7ms/step - loss: 0.4311 - root_mean_squared_error: 0.0767 - mean_absolute_error: 0.0420\n",
            "Epoch 2/50\n",
            "868/868 [==============================] - 4s 5ms/step - loss: 0.4180 - root_mean_squared_error: 0.0337 - mean_absolute_error: 0.0255\n",
            "Epoch 3/50\n",
            "868/868 [==============================] - 4s 5ms/step - loss: 0.4177 - root_mean_squared_error: 0.0327 - mean_absolute_error: 0.0246\n",
            "Epoch 4/50\n",
            "868/868 [==============================] - 4s 5ms/step - loss: 0.4176 - root_mean_squared_error: 0.0325 - mean_absolute_error: 0.0244\n",
            "Epoch 5/50\n",
            "868/868 [==============================] - 4s 5ms/step - loss: 0.4174 - root_mean_squared_error: 0.0320 - mean_absolute_error: 0.0239\n",
            "Epoch 6/50\n",
            "868/868 [==============================] - 4s 5ms/step - loss: 0.4173 - root_mean_squared_error: 0.0318 - mean_absolute_error: 0.0237\n",
            "Epoch 7/50\n",
            "868/868 [==============================] - 4s 5ms/step - loss: 0.4172 - root_mean_squared_error: 0.0313 - mean_absolute_error: 0.0232\n",
            "Epoch 8/50\n",
            "868/868 [==============================] - 4s 5ms/step - loss: 0.4172 - root_mean_squared_error: 0.0315 - mean_absolute_error: 0.0233\n",
            "Epoch 9/50\n",
            "868/868 [==============================] - 4s 5ms/step - loss: 0.4171 - root_mean_squared_error: 0.0313 - mean_absolute_error: 0.0231\n",
            "Epoch 10/50\n",
            "868/868 [==============================] - 4s 5ms/step - loss: 0.4171 - root_mean_squared_error: 0.0312 - mean_absolute_error: 0.0231\n",
            "Epoch 11/50\n",
            "868/868 [==============================] - 4s 5ms/step - loss: 0.4171 - root_mean_squared_error: 0.0311 - mean_absolute_error: 0.0230\n",
            "Epoch 12/50\n",
            "868/868 [==============================] - 4s 5ms/step - loss: 0.4170 - root_mean_squared_error: 0.0309 - mean_absolute_error: 0.0228\n",
            "Epoch 13/50\n",
            "868/868 [==============================] - 4s 5ms/step - loss: 0.4170 - root_mean_squared_error: 0.0307 - mean_absolute_error: 0.0227\n",
            "Epoch 14/50\n",
            "868/868 [==============================] - 4s 5ms/step - loss: 0.4170 - root_mean_squared_error: 0.0306 - mean_absolute_error: 0.0226\n",
            "Epoch 15/50\n",
            "868/868 [==============================] - 4s 5ms/step - loss: 0.4169 - root_mean_squared_error: 0.0305 - mean_absolute_error: 0.0225\n",
            "Epoch 16/50\n",
            "868/868 [==============================] - 4s 5ms/step - loss: 0.4169 - root_mean_squared_error: 0.0303 - mean_absolute_error: 0.0224\n",
            "Epoch 17/50\n",
            "868/868 [==============================] - 4s 5ms/step - loss: 0.4169 - root_mean_squared_error: 0.0302 - mean_absolute_error: 0.0223\n",
            "Epoch 18/50\n",
            "868/868 [==============================] - 4s 5ms/step - loss: 0.4168 - root_mean_squared_error: 0.0299 - mean_absolute_error: 0.0221\n",
            "Epoch 19/50\n",
            "868/868 [==============================] - 4s 5ms/step - loss: 0.4168 - root_mean_squared_error: 0.0298 - mean_absolute_error: 0.0221\n",
            "Epoch 20/50\n",
            "868/868 [==============================] - 5s 5ms/step - loss: 0.4168 - root_mean_squared_error: 0.0297 - mean_absolute_error: 0.0219\n",
            "Epoch 21/50\n",
            "868/868 [==============================] - 4s 5ms/step - loss: 0.4168 - root_mean_squared_error: 0.0296 - mean_absolute_error: 0.0219\n",
            "Epoch 22/50\n",
            "868/868 [==============================] - 5s 6ms/step - loss: 0.4167 - root_mean_squared_error: 0.0295 - mean_absolute_error: 0.0218\n",
            "Epoch 23/50\n",
            "868/868 [==============================] - 4s 5ms/step - loss: 0.4167 - root_mean_squared_error: 0.0295 - mean_absolute_error: 0.0218\n",
            "Epoch 24/50\n",
            "868/868 [==============================] - 5s 5ms/step - loss: 0.4167 - root_mean_squared_error: 0.0294 - mean_absolute_error: 0.0217\n",
            "Epoch 25/50\n",
            "868/868 [==============================] - 5s 6ms/step - loss: 0.4167 - root_mean_squared_error: 0.0294 - mean_absolute_error: 0.0217\n",
            "Epoch 26/50\n",
            "868/868 [==============================] - 6s 7ms/step - loss: 0.4167 - root_mean_squared_error: 0.0292 - mean_absolute_error: 0.0216\n",
            "Epoch 27/50\n",
            "868/868 [==============================] - 8s 9ms/step - loss: 0.4167 - root_mean_squared_error: 0.0293 - mean_absolute_error: 0.0216\n",
            "Epoch 28/50\n",
            "868/868 [==============================] - 7s 8ms/step - loss: 0.4167 - root_mean_squared_error: 0.0291 - mean_absolute_error: 0.0215\n",
            "Epoch 29/50\n",
            "868/868 [==============================] - 7s 9ms/step - loss: 0.4167 - root_mean_squared_error: 0.0292 - mean_absolute_error: 0.0216\n",
            "Epoch 30/50\n",
            "868/868 [==============================] - 5s 5ms/step - loss: 0.4167 - root_mean_squared_error: 0.0290 - mean_absolute_error: 0.0214\n",
            "Epoch 31/50\n",
            "868/868 [==============================] - 6s 7ms/step - loss: 0.4167 - root_mean_squared_error: 0.0290 - mean_absolute_error: 0.0215\n",
            "Epoch 32/50\n",
            "868/868 [==============================] - 6s 7ms/step - loss: 0.4167 - root_mean_squared_error: 0.0290 - mean_absolute_error: 0.0215\n",
            "Epoch 33/50\n",
            "868/868 [==============================] - 5s 6ms/step - loss: 0.4167 - root_mean_squared_error: 0.0291 - mean_absolute_error: 0.0215\n",
            "Epoch 34/50\n",
            "868/868 [==============================] - 6s 7ms/step - loss: 0.4167 - root_mean_squared_error: 0.0290 - mean_absolute_error: 0.0214\n",
            "Epoch 35/50\n",
            "868/868 [==============================] - 6s 7ms/step - loss: 0.4167 - root_mean_squared_error: 0.0290 - mean_absolute_error: 0.0214\n",
            "Epoch 36/50\n",
            "868/868 [==============================] - 8s 9ms/step - loss: 0.4166 - root_mean_squared_error: 0.0289 - mean_absolute_error: 0.0214\n",
            "Epoch 37/50\n",
            "868/868 [==============================] - 6s 7ms/step - loss: 0.4167 - root_mean_squared_error: 0.0290 - mean_absolute_error: 0.0214\n",
            "Epoch 38/50\n",
            "868/868 [==============================] - 6s 7ms/step - loss: 0.4166 - root_mean_squared_error: 0.0289 - mean_absolute_error: 0.0214\n",
            "Epoch 39/50\n",
            "868/868 [==============================] - 5s 5ms/step - loss: 0.4166 - root_mean_squared_error: 0.0289 - mean_absolute_error: 0.0214\n",
            "Epoch 40/50\n",
            "868/868 [==============================] - 6s 6ms/step - loss: 0.4166 - root_mean_squared_error: 0.0289 - mean_absolute_error: 0.0214\n",
            "Epoch 41/50\n",
            "868/868 [==============================] - 5s 5ms/step - loss: 0.4166 - root_mean_squared_error: 0.0288 - mean_absolute_error: 0.0212\n",
            "Epoch 42/50\n",
            "868/868 [==============================] - 5s 5ms/step - loss: 0.4166 - root_mean_squared_error: 0.0288 - mean_absolute_error: 0.0212\n",
            "Epoch 43/50\n",
            "868/868 [==============================] - 4s 5ms/step - loss: 0.4166 - root_mean_squared_error: 0.0288 - mean_absolute_error: 0.0213\n",
            "Epoch 44/50\n",
            "868/868 [==============================] - 5s 5ms/step - loss: 0.4166 - root_mean_squared_error: 0.0288 - mean_absolute_error: 0.0213\n",
            "Epoch 45/50\n",
            "868/868 [==============================] - 5s 5ms/step - loss: 0.4166 - root_mean_squared_error: 0.0287 - mean_absolute_error: 0.0212\n",
            "Epoch 46/50\n",
            "868/868 [==============================] - 5s 5ms/step - loss: 0.4166 - root_mean_squared_error: 0.0289 - mean_absolute_error: 0.0213\n",
            "Epoch 47/50\n",
            "868/868 [==============================] - 4s 5ms/step - loss: 0.4166 - root_mean_squared_error: 0.0287 - mean_absolute_error: 0.0211\n",
            "Epoch 48/50\n",
            "868/868 [==============================] - 5s 5ms/step - loss: 0.4166 - root_mean_squared_error: 0.0286 - mean_absolute_error: 0.0211\n",
            "Epoch 49/50\n",
            "868/868 [==============================] - 5s 5ms/step - loss: 0.4165 - root_mean_squared_error: 0.0286 - mean_absolute_error: 0.0210\n",
            "Epoch 50/50\n",
            "868/868 [==============================] - 4s 5ms/step - loss: 0.4165 - root_mean_squared_error: 0.0285 - mean_absolute_error: 0.0210\n",
            "0.9948919715158374\n"
          ]
        }
      ]
    },
    {
      "cell_type": "code",
      "source": [
        "print(f\"the rbf predicted result is: {rbf_pred1}\")"
      ],
      "metadata": {
        "colab": {
          "base_uri": "https://localhost:8080/"
        },
        "id": "A0snMNmM7Htm",
        "outputId": "48b071a1-fd9a-4a57-eaa2-0d31b9314823"
      },
      "execution_count": 11,
      "outputs": [
        {
          "output_type": "stream",
          "name": "stdout",
          "text": [
            "the rbf predicted result is: [[0.8244563 ]\n",
            " [0.017665  ]\n",
            " [0.9563736 ]\n",
            " [0.96626973]\n",
            " [0.95405173]\n",
            " [0.9421664 ]\n",
            " [0.06759223]\n",
            " [0.99061036]\n",
            " [0.32761842]\n",
            " [0.9064632 ]\n",
            " [0.9847482 ]\n",
            " [0.51535237]\n",
            " [0.14398035]\n",
            " [0.11593625]\n",
            " [0.09105694]\n",
            " [0.5413427 ]\n",
            " [0.3985762 ]\n",
            " [0.19811058]\n",
            " [0.51933676]\n",
            " [0.05579421]\n",
            " [0.62618315]\n",
            " [0.01702455]\n",
            " [0.05929714]\n",
            " [0.7894338 ]\n",
            " [0.03557494]\n",
            " [0.2250866 ]\n",
            " [0.08841112]\n",
            " [0.9856474 ]\n",
            " [0.01540679]\n",
            " [0.6609605 ]\n",
            " [0.27940318]\n",
            " [0.17999005]\n",
            " [0.9348607 ]\n",
            " [0.0466634 ]\n",
            " [0.98759866]\n",
            " [0.2155413 ]\n",
            " [0.10033807]\n",
            " [0.17859015]\n",
            " [0.13057622]\n",
            " [0.33680886]\n",
            " [0.253179  ]\n",
            " [0.18505105]\n",
            " [0.14706418]\n",
            " [0.9760124 ]]\n"
          ]
        }
      ]
    },
    {
      "cell_type": "code",
      "source": [
        "model1_2A = Sequential()\n",
        "model1_2A.add(Dense(3, activation='relu', input_dim=(3)))\n",
        "model1_2A.add(Dense(32, activation='relu'))\n",
        "model1_2A.add(Dense(64, activation='relu'))\n",
        "model1_2A.add(Dense(32, activation='relu'))\n",
        "model1_2A.add(Dense(1, name='output'))\n",
        "model1_2A.summary()"
      ],
      "metadata": {
        "colab": {
          "base_uri": "https://localhost:8080/"
        },
        "id": "iNsfhz8B7Hvj",
        "outputId": "0be418b4-2f22-4de0-ed87-e91908f05c6d"
      },
      "execution_count": 16,
      "outputs": [
        {
          "output_type": "stream",
          "name": "stdout",
          "text": [
            "Model: \"sequential_2\"\n",
            "_________________________________________________________________\n",
            " Layer (type)                Output Shape              Param #   \n",
            "=================================================================\n",
            " dense_6 (Dense)             (None, 3)                 12        \n",
            "                                                                 \n",
            " dense_7 (Dense)             (None, 32)                128       \n",
            "                                                                 \n",
            " dense_8 (Dense)             (None, 64)                2112      \n",
            "                                                                 \n",
            " dense_9 (Dense)             (None, 32)                2080      \n",
            "                                                                 \n",
            " output (Dense)              (None, 1)                 33        \n",
            "                                                                 \n",
            "=================================================================\n",
            "Total params: 4,365\n",
            "Trainable params: 4,365\n",
            "Non-trainable params: 0\n",
            "_________________________________________________________________\n"
          ]
        }
      ]
    },
    {
      "cell_type": "code",
      "source": [
        "model1_2A.compile(optimizer='adam',\n",
        "              loss=binary_crossentropy,\n",
        "              metrics=[\n",
        "                       tf.keras.metrics.RootMeanSquaredError(),\n",
        "                       tf.keras.metrics.MeanAbsoluteError(),\n",
        "                       ])\n",
        "\n",
        "history1_2A = model1_2A.fit(x_train, y_train, epochs=50, batch_size=50, verbose=1)\n",
        "\n",
        "y_pred1_2A = model1_2A.predict(x_test)\n"
      ],
      "metadata": {
        "colab": {
          "base_uri": "https://localhost:8080/"
        },
        "id": "NYen6o7P7Hws",
        "outputId": "ebe530dd-3058-4869-be08-1fa07252f848"
      },
      "execution_count": 17,
      "outputs": [
        {
          "output_type": "stream",
          "name": "stdout",
          "text": [
            "Epoch 1/50\n",
            "868/868 [==============================] - 2s 2ms/step - loss: 2.6788 - root_mean_squared_error: 0.3741 - mean_absolute_error: 0.2696\n",
            "Epoch 2/50\n",
            "868/868 [==============================] - 2s 2ms/step - loss: 0.4784 - root_mean_squared_error: 0.1619 - mean_absolute_error: 0.1123\n",
            "Epoch 3/50\n",
            "868/868 [==============================] - 2s 2ms/step - loss: 0.4530 - root_mean_squared_error: 0.1228 - mean_absolute_error: 0.0768\n",
            "Epoch 4/50\n",
            "868/868 [==============================] - 2s 2ms/step - loss: 0.4724 - root_mean_squared_error: 0.1506 - mean_absolute_error: 0.0867\n",
            "Epoch 5/50\n",
            "868/868 [==============================] - 2s 2ms/step - loss: 0.4350 - root_mean_squared_error: 0.0720 - mean_absolute_error: 0.0441\n",
            "Epoch 6/50\n",
            "868/868 [==============================] - 2s 2ms/step - loss: 0.4340 - root_mean_squared_error: 0.0680 - mean_absolute_error: 0.0398\n",
            "Epoch 7/50\n",
            "868/868 [==============================] - 2s 2ms/step - loss: 0.4277 - root_mean_squared_error: 0.0536 - mean_absolute_error: 0.0324\n",
            "Epoch 8/50\n",
            "868/868 [==============================] - 2s 2ms/step - loss: 0.4189 - root_mean_squared_error: 0.0306 - mean_absolute_error: 0.0225\n",
            "Epoch 9/50\n",
            "868/868 [==============================] - 2s 2ms/step - loss: 0.4173 - root_mean_squared_error: 0.0308 - mean_absolute_error: 0.0225\n",
            "Epoch 10/50\n",
            "868/868 [==============================] - 2s 2ms/step - loss: 0.4164 - root_mean_squared_error: 0.0279 - mean_absolute_error: 0.0206\n",
            "Epoch 11/50\n",
            "868/868 [==============================] - 2s 2ms/step - loss: 0.4164 - root_mean_squared_error: 0.0281 - mean_absolute_error: 0.0207\n",
            "Epoch 12/50\n",
            "868/868 [==============================] - 2s 2ms/step - loss: 0.4164 - root_mean_squared_error: 0.0281 - mean_absolute_error: 0.0207\n",
            "Epoch 13/50\n",
            "868/868 [==============================] - 2s 2ms/step - loss: 0.4173 - root_mean_squared_error: 0.0298 - mean_absolute_error: 0.0218\n",
            "Epoch 14/50\n",
            "868/868 [==============================] - 2s 2ms/step - loss: 0.4180 - root_mean_squared_error: 0.0335 - mean_absolute_error: 0.0235\n",
            "Epoch 15/50\n",
            "868/868 [==============================] - 2s 2ms/step - loss: 0.4164 - root_mean_squared_error: 0.0280 - mean_absolute_error: 0.0207\n",
            "Epoch 16/50\n",
            "868/868 [==============================] - 2s 2ms/step - loss: 0.4212 - root_mean_squared_error: 0.0410 - mean_absolute_error: 0.0262\n",
            "Epoch 17/50\n",
            "868/868 [==============================] - 2s 2ms/step - loss: 0.4163 - root_mean_squared_error: 0.0280 - mean_absolute_error: 0.0206\n",
            "Epoch 18/50\n",
            "868/868 [==============================] - 2s 2ms/step - loss: 0.4164 - root_mean_squared_error: 0.0280 - mean_absolute_error: 0.0207\n",
            "Epoch 19/50\n",
            "868/868 [==============================] - 2s 2ms/step - loss: 0.4164 - root_mean_squared_error: 0.0281 - mean_absolute_error: 0.0207\n",
            "Epoch 20/50\n",
            "868/868 [==============================] - 2s 2ms/step - loss: 0.4195 - root_mean_squared_error: 0.0405 - mean_absolute_error: 0.0257\n",
            "Epoch 21/50\n",
            "868/868 [==============================] - 2s 2ms/step - loss: 0.4167 - root_mean_squared_error: 0.0285 - mean_absolute_error: 0.0211\n",
            "Epoch 22/50\n",
            "868/868 [==============================] - 2s 2ms/step - loss: 0.4164 - root_mean_squared_error: 0.0279 - mean_absolute_error: 0.0206\n",
            "Epoch 23/50\n",
            "868/868 [==============================] - 2s 2ms/step - loss: 0.4173 - root_mean_squared_error: 0.0317 - mean_absolute_error: 0.0221\n",
            "Epoch 24/50\n",
            "868/868 [==============================] - 2s 2ms/step - loss: 0.4166 - root_mean_squared_error: 0.0285 - mean_absolute_error: 0.0209\n",
            "Epoch 25/50\n",
            "868/868 [==============================] - 2s 2ms/step - loss: 0.4222 - root_mean_squared_error: 0.0494 - mean_absolute_error: 0.0290\n",
            "Epoch 26/50\n",
            "868/868 [==============================] - 2s 2ms/step - loss: 0.4165 - root_mean_squared_error: 0.0283 - mean_absolute_error: 0.0207\n",
            "Epoch 27/50\n",
            "868/868 [==============================] - 2s 2ms/step - loss: 0.4164 - root_mean_squared_error: 0.0279 - mean_absolute_error: 0.0205\n",
            "Epoch 28/50\n",
            "868/868 [==============================] - 2s 2ms/step - loss: 0.4163 - root_mean_squared_error: 0.0279 - mean_absolute_error: 0.0205\n",
            "Epoch 29/50\n",
            "868/868 [==============================] - 2s 2ms/step - loss: 0.4164 - root_mean_squared_error: 0.0281 - mean_absolute_error: 0.0207\n",
            "Epoch 30/50\n",
            "868/868 [==============================] - 2s 2ms/step - loss: 0.4224 - root_mean_squared_error: 0.0462 - mean_absolute_error: 0.0288\n",
            "Epoch 31/50\n",
            "868/868 [==============================] - 2s 2ms/step - loss: 0.4163 - root_mean_squared_error: 0.0278 - mean_absolute_error: 0.0205\n",
            "Epoch 32/50\n",
            "868/868 [==============================] - 2s 2ms/step - loss: 0.4167 - root_mean_squared_error: 0.0294 - mean_absolute_error: 0.0211\n",
            "Epoch 33/50\n",
            "868/868 [==============================] - 2s 2ms/step - loss: 0.4163 - root_mean_squared_error: 0.0278 - mean_absolute_error: 0.0203\n",
            "Epoch 34/50\n",
            "868/868 [==============================] - 3s 3ms/step - loss: 0.4164 - root_mean_squared_error: 0.0281 - mean_absolute_error: 0.0207\n",
            "Epoch 35/50\n",
            "868/868 [==============================] - 2s 2ms/step - loss: 0.4164 - root_mean_squared_error: 0.0280 - mean_absolute_error: 0.0206\n",
            "Epoch 36/50\n",
            "868/868 [==============================] - 2s 2ms/step - loss: 0.4174 - root_mean_squared_error: 0.0318 - mean_absolute_error: 0.0225\n",
            "Epoch 37/50\n",
            "868/868 [==============================] - 2s 2ms/step - loss: 0.4171 - root_mean_squared_error: 0.0305 - mean_absolute_error: 0.0221\n",
            "Epoch 38/50\n",
            "868/868 [==============================] - 2s 2ms/step - loss: 0.4164 - root_mean_squared_error: 0.0283 - mean_absolute_error: 0.0208\n",
            "Epoch 39/50\n",
            "868/868 [==============================] - 2s 2ms/step - loss: 0.4164 - root_mean_squared_error: 0.0281 - mean_absolute_error: 0.0207\n",
            "Epoch 40/50\n",
            "868/868 [==============================] - 2s 2ms/step - loss: 0.4165 - root_mean_squared_error: 0.0285 - mean_absolute_error: 0.0210\n",
            "Epoch 41/50\n",
            "868/868 [==============================] - 3s 3ms/step - loss: 0.4188 - root_mean_squared_error: 0.0367 - mean_absolute_error: 0.0244\n",
            "Epoch 42/50\n",
            "868/868 [==============================] - 2s 2ms/step - loss: 0.4163 - root_mean_squared_error: 0.0279 - mean_absolute_error: 0.0204\n",
            "Epoch 43/50\n",
            "868/868 [==============================] - 2s 2ms/step - loss: 0.4165 - root_mean_squared_error: 0.0283 - mean_absolute_error: 0.0208\n",
            "Epoch 44/50\n",
            "868/868 [==============================] - 2s 2ms/step - loss: 0.4164 - root_mean_squared_error: 0.0280 - mean_absolute_error: 0.0205\n",
            "Epoch 45/50\n",
            "868/868 [==============================] - 2s 2ms/step - loss: 0.4165 - root_mean_squared_error: 0.0282 - mean_absolute_error: 0.0208\n",
            "Epoch 46/50\n",
            "868/868 [==============================] - 2s 2ms/step - loss: 0.4185 - root_mean_squared_error: 0.0365 - mean_absolute_error: 0.0234\n",
            "Epoch 47/50\n",
            "868/868 [==============================] - 2s 2ms/step - loss: 0.4162 - root_mean_squared_error: 0.0277 - mean_absolute_error: 0.0203\n",
            "Epoch 48/50\n",
            "868/868 [==============================] - 2s 2ms/step - loss: 0.4164 - root_mean_squared_error: 0.0282 - mean_absolute_error: 0.0206\n",
            "Epoch 49/50\n",
            "868/868 [==============================] - 2s 2ms/step - loss: 0.4162 - root_mean_squared_error: 0.0279 - mean_absolute_error: 0.0204\n",
            "Epoch 50/50\n",
            "868/868 [==============================] - 2s 2ms/step - loss: 0.4164 - root_mean_squared_error: 0.0283 - mean_absolute_error: 0.0207\n"
          ]
        }
      ]
    },
    {
      "cell_type": "code",
      "source": [
        "print(r2_score(y_test, y_pred1_2A))"
      ],
      "metadata": {
        "colab": {
          "base_uri": "https://localhost:8080/"
        },
        "id": "seHgP7poCuoI",
        "outputId": "632370d4-d843-4488-997a-17b0544f4bb2"
      },
      "execution_count": 18,
      "outputs": [
        {
          "output_type": "stream",
          "name": "stdout",
          "text": [
            "0.9949939324659955\n"
          ]
        }
      ]
    },
    {
      "cell_type": "code",
      "source": [
        "print(f\" the predicted values for the mlp model is: {y_pred1_2A}\")"
      ],
      "metadata": {
        "colab": {
          "base_uri": "https://localhost:8080/"
        },
        "id": "hmjbH2SL7Hyn",
        "outputId": "30be89bb-ba80-4ce9-89ef-409f6611f2d8"
      },
      "execution_count": 19,
      "outputs": [
        {
          "output_type": "stream",
          "name": "stdout",
          "text": [
            " the predicted values for the mlp model is: [[0.83676994]\n",
            " [0.00941123]\n",
            " [0.96175057]\n",
            " [0.96668375]\n",
            " [0.9579214 ]\n",
            " [0.9517357 ]\n",
            " [0.06866314]\n",
            " [0.97992855]\n",
            " [0.32715115]\n",
            " [0.90594476]\n",
            " [0.98645943]\n",
            " [0.51029193]\n",
            " [0.14088237]\n",
            " [0.11617707]\n",
            " [0.09134915]\n",
            " [0.5348726 ]\n",
            " [0.3963589 ]\n",
            " [0.19857106]\n",
            " [0.516536  ]\n",
            " [0.05628487]\n",
            " [0.61575913]\n",
            " [0.00449654]\n",
            " [0.06064405]\n",
            " [0.78858197]\n",
            " [0.03365729]\n",
            " [0.22461088]\n",
            " [0.08761397]\n",
            " [0.9908994 ]\n",
            " [0.01301818]\n",
            " [0.65169674]\n",
            " [0.2808165 ]\n",
            " [0.17624584]\n",
            " [0.9320387 ]\n",
            " [0.04936955]\n",
            " [0.98421234]\n",
            " [0.21482651]\n",
            " [0.10265019]\n",
            " [0.17790048]\n",
            " [0.12977862]\n",
            " [0.3352997 ]\n",
            " [0.2538849 ]\n",
            " [0.18488662]\n",
            " [0.14185092]\n",
            " [0.97194767]]\n"
          ]
        }
      ]
    },
    {
      "cell_type": "code",
      "source": [
        "%load_ext rpy2.ipython\n"
      ],
      "metadata": {
        "colab": {
          "base_uri": "https://localhost:8080/"
        },
        "id": "dtKZiBv-DZ00",
        "outputId": "d80bb9fc-99bc-4f24-d071-f52b63b28bff"
      },
      "execution_count": 31,
      "outputs": [
        {
          "output_type": "stream",
          "name": "stdout",
          "text": [
            "The rpy2.ipython extension is already loaded. To reload it, use:\n",
            "  %reload_ext rpy2.ipython\n"
          ]
        }
      ]
    },
    {
      "cell_type": "code",
      "source": [
        "import rpy2"
      ],
      "metadata": {
        "id": "4zhxGPJcN6Nr"
      },
      "execution_count": 32,
      "outputs": []
    },
    {
      "cell_type": "code",
      "source": [
        "%%R\n",
        "install.package(\"float\")\n"
      ],
      "metadata": {
        "colab": {
          "base_uri": "https://localhost:8080/",
          "height": 623
        },
        "id": "OX4V1bHNDfup",
        "outputId": "e8f5cae2-b38a-469f-e977-410ac45475e1"
      },
      "execution_count": 33,
      "outputs": [
        {
          "output_type": "stream",
          "name": "stderr",
          "text": [
            "WARNING:rpy2.rinterface_lib.callbacks:R[write to console]: Error in install.package(\"float\") : \n",
            "  could not find function \"install.package\"\n",
            "\n"
          ]
        },
        {
          "output_type": "stream",
          "name": "stdout",
          "text": [
            "\n",
            "Error in install.package(\"float\") : \n",
            "  could not find function \"install.package\"\n"
          ]
        },
        {
          "output_type": "error",
          "ename": "RInterpreterError",
          "evalue": "ignored",
          "traceback": [
            "\u001b[0;31m---------------------------------------------------------------------------\u001b[0m",
            "\u001b[0;31mRRuntimeError\u001b[0m                             Traceback (most recent call last)",
            "\u001b[0;32m/usr/local/lib/python3.7/dist-packages/rpy2/ipython/rmagic.py\u001b[0m in \u001b[0;36meval\u001b[0;34m(self, code)\u001b[0m\n\u001b[1;32m    267\u001b[0m                 \u001b[0;31m# Need the newline in case the last line in code is a comment.\u001b[0m\u001b[0;34m\u001b[0m\u001b[0;34m\u001b[0m\u001b[0;34m\u001b[0m\u001b[0m\n\u001b[0;32m--> 268\u001b[0;31m                 \u001b[0mvalue\u001b[0m\u001b[0;34m,\u001b[0m \u001b[0mvisible\u001b[0m \u001b[0;34m=\u001b[0m \u001b[0mro\u001b[0m\u001b[0;34m.\u001b[0m\u001b[0mr\u001b[0m\u001b[0;34m(\u001b[0m\u001b[0;34m\"withVisible({%s\\n})\"\u001b[0m \u001b[0;34m%\u001b[0m \u001b[0mcode\u001b[0m\u001b[0;34m)\u001b[0m\u001b[0;34m\u001b[0m\u001b[0;34m\u001b[0m\u001b[0m\n\u001b[0m\u001b[1;32m    269\u001b[0m             \u001b[0;32mexcept\u001b[0m \u001b[0;34m(\u001b[0m\u001b[0mri\u001b[0m\u001b[0;34m.\u001b[0m\u001b[0membedded\u001b[0m\u001b[0;34m.\u001b[0m\u001b[0mRRuntimeError\u001b[0m\u001b[0;34m,\u001b[0m \u001b[0mValueError\u001b[0m\u001b[0;34m)\u001b[0m \u001b[0;32mas\u001b[0m \u001b[0mexception\u001b[0m\u001b[0;34m:\u001b[0m\u001b[0;34m\u001b[0m\u001b[0;34m\u001b[0m\u001b[0m\n",
            "\u001b[0;32m/usr/local/lib/python3.7/dist-packages/rpy2/robjects/__init__.py\u001b[0m in \u001b[0;36m__call__\u001b[0;34m(self, string)\u001b[0m\n\u001b[1;32m    437\u001b[0m         \u001b[0mp\u001b[0m \u001b[0;34m=\u001b[0m \u001b[0mrinterface\u001b[0m\u001b[0;34m.\u001b[0m\u001b[0mparse\u001b[0m\u001b[0;34m(\u001b[0m\u001b[0mstring\u001b[0m\u001b[0;34m)\u001b[0m\u001b[0;34m\u001b[0m\u001b[0;34m\u001b[0m\u001b[0m\n\u001b[0;32m--> 438\u001b[0;31m         \u001b[0mres\u001b[0m \u001b[0;34m=\u001b[0m \u001b[0mself\u001b[0m\u001b[0;34m.\u001b[0m\u001b[0meval\u001b[0m\u001b[0;34m(\u001b[0m\u001b[0mp\u001b[0m\u001b[0;34m)\u001b[0m\u001b[0;34m\u001b[0m\u001b[0;34m\u001b[0m\u001b[0m\n\u001b[0m\u001b[1;32m    439\u001b[0m         \u001b[0;32mreturn\u001b[0m \u001b[0mconversion\u001b[0m\u001b[0;34m.\u001b[0m\u001b[0mrpy2py\u001b[0m\u001b[0;34m(\u001b[0m\u001b[0mres\u001b[0m\u001b[0;34m)\u001b[0m\u001b[0;34m\u001b[0m\u001b[0;34m\u001b[0m\u001b[0m\n",
            "\u001b[0;32m/usr/local/lib/python3.7/dist-packages/rpy2/robjects/functions.py\u001b[0m in \u001b[0;36m__call__\u001b[0;34m(self, *args, **kwargs)\u001b[0m\n\u001b[1;32m    198\u001b[0m         return (super(SignatureTranslatedFunction, self)\n\u001b[0;32m--> 199\u001b[0;31m                 .__call__(*args, **kwargs))\n\u001b[0m\u001b[1;32m    200\u001b[0m \u001b[0;34m\u001b[0m\u001b[0m\n",
            "\u001b[0;32m/usr/local/lib/python3.7/dist-packages/rpy2/robjects/functions.py\u001b[0m in \u001b[0;36m__call__\u001b[0;34m(self, *args, **kwargs)\u001b[0m\n\u001b[1;32m    124\u001b[0m                 \u001b[0mnew_kwargs\u001b[0m\u001b[0;34m[\u001b[0m\u001b[0mk\u001b[0m\u001b[0;34m]\u001b[0m \u001b[0;34m=\u001b[0m \u001b[0mconversion\u001b[0m\u001b[0;34m.\u001b[0m\u001b[0mpy2rpy\u001b[0m\u001b[0;34m(\u001b[0m\u001b[0mv\u001b[0m\u001b[0;34m)\u001b[0m\u001b[0;34m\u001b[0m\u001b[0;34m\u001b[0m\u001b[0m\n\u001b[0;32m--> 125\u001b[0;31m         \u001b[0mres\u001b[0m \u001b[0;34m=\u001b[0m \u001b[0msuper\u001b[0m\u001b[0;34m(\u001b[0m\u001b[0mFunction\u001b[0m\u001b[0;34m,\u001b[0m \u001b[0mself\u001b[0m\u001b[0;34m)\u001b[0m\u001b[0;34m.\u001b[0m\u001b[0m__call__\u001b[0m\u001b[0;34m(\u001b[0m\u001b[0;34m*\u001b[0m\u001b[0mnew_args\u001b[0m\u001b[0;34m,\u001b[0m \u001b[0;34m**\u001b[0m\u001b[0mnew_kwargs\u001b[0m\u001b[0;34m)\u001b[0m\u001b[0;34m\u001b[0m\u001b[0;34m\u001b[0m\u001b[0m\n\u001b[0m\u001b[1;32m    126\u001b[0m         \u001b[0mres\u001b[0m \u001b[0;34m=\u001b[0m \u001b[0mconversion\u001b[0m\u001b[0;34m.\u001b[0m\u001b[0mrpy2py\u001b[0m\u001b[0;34m(\u001b[0m\u001b[0mres\u001b[0m\u001b[0;34m)\u001b[0m\u001b[0;34m\u001b[0m\u001b[0;34m\u001b[0m\u001b[0m\n",
            "\u001b[0;32m/usr/local/lib/python3.7/dist-packages/rpy2/rinterface_lib/conversion.py\u001b[0m in \u001b[0;36m_\u001b[0;34m(*args, **kwargs)\u001b[0m\n\u001b[1;32m     44\u001b[0m     \u001b[0;32mdef\u001b[0m \u001b[0m_\u001b[0m\u001b[0;34m(\u001b[0m\u001b[0;34m*\u001b[0m\u001b[0margs\u001b[0m\u001b[0;34m,\u001b[0m \u001b[0;34m**\u001b[0m\u001b[0mkwargs\u001b[0m\u001b[0;34m)\u001b[0m\u001b[0;34m:\u001b[0m\u001b[0;34m\u001b[0m\u001b[0;34m\u001b[0m\u001b[0m\n\u001b[0;32m---> 45\u001b[0;31m         \u001b[0mcdata\u001b[0m \u001b[0;34m=\u001b[0m \u001b[0mfunction\u001b[0m\u001b[0;34m(\u001b[0m\u001b[0;34m*\u001b[0m\u001b[0margs\u001b[0m\u001b[0;34m,\u001b[0m \u001b[0;34m**\u001b[0m\u001b[0mkwargs\u001b[0m\u001b[0;34m)\u001b[0m\u001b[0;34m\u001b[0m\u001b[0;34m\u001b[0m\u001b[0m\n\u001b[0m\u001b[1;32m     46\u001b[0m         \u001b[0;31m# TODO: test cdata is of the expected CType\u001b[0m\u001b[0;34m\u001b[0m\u001b[0;34m\u001b[0m\u001b[0;34m\u001b[0m\u001b[0m\n",
            "\u001b[0;32m/usr/local/lib/python3.7/dist-packages/rpy2/rinterface.py\u001b[0m in \u001b[0;36m__call__\u001b[0;34m(self, *args, **kwargs)\u001b[0m\n\u001b[1;32m    679\u001b[0m             \u001b[0;32mif\u001b[0m \u001b[0merror_occured\u001b[0m\u001b[0;34m[\u001b[0m\u001b[0;36m0\u001b[0m\u001b[0;34m]\u001b[0m\u001b[0;34m:\u001b[0m\u001b[0;34m\u001b[0m\u001b[0;34m\u001b[0m\u001b[0m\n\u001b[0;32m--> 680\u001b[0;31m                 \u001b[0;32mraise\u001b[0m \u001b[0membedded\u001b[0m\u001b[0;34m.\u001b[0m\u001b[0mRRuntimeError\u001b[0m\u001b[0;34m(\u001b[0m\u001b[0m_rinterface\u001b[0m\u001b[0;34m.\u001b[0m\u001b[0m_geterrmessage\u001b[0m\u001b[0;34m(\u001b[0m\u001b[0;34m)\u001b[0m\u001b[0;34m)\u001b[0m\u001b[0;34m\u001b[0m\u001b[0;34m\u001b[0m\u001b[0m\n\u001b[0m\u001b[1;32m    681\u001b[0m         \u001b[0;32mreturn\u001b[0m \u001b[0mres\u001b[0m\u001b[0;34m\u001b[0m\u001b[0;34m\u001b[0m\u001b[0m\n",
            "\u001b[0;31mRRuntimeError\u001b[0m: Error in install.package(\"float\") : \n  could not find function \"install.package\"\n",
            "\nDuring handling of the above exception, another exception occurred:\n",
            "\u001b[0;31mRInterpreterError\u001b[0m                         Traceback (most recent call last)",
            "\u001b[0;32m<ipython-input-33-9e4018494020>\u001b[0m in \u001b[0;36m<module>\u001b[0;34m\u001b[0m\n\u001b[0;32m----> 1\u001b[0;31m \u001b[0mget_ipython\u001b[0m\u001b[0;34m(\u001b[0m\u001b[0;34m)\u001b[0m\u001b[0;34m.\u001b[0m\u001b[0mrun_cell_magic\u001b[0m\u001b[0;34m(\u001b[0m\u001b[0;34m'R'\u001b[0m\u001b[0;34m,\u001b[0m \u001b[0;34m''\u001b[0m\u001b[0;34m,\u001b[0m \u001b[0;34m'install.package(\"float\")\\n'\u001b[0m\u001b[0;34m)\u001b[0m\u001b[0;34m\u001b[0m\u001b[0;34m\u001b[0m\u001b[0m\n\u001b[0m",
            "\u001b[0;32m/usr/local/lib/python3.7/dist-packages/IPython/core/interactiveshell.py\u001b[0m in \u001b[0;36mrun_cell_magic\u001b[0;34m(self, magic_name, line, cell)\u001b[0m\n\u001b[1;32m   2357\u001b[0m             \u001b[0;32mwith\u001b[0m \u001b[0mself\u001b[0m\u001b[0;34m.\u001b[0m\u001b[0mbuiltin_trap\u001b[0m\u001b[0;34m:\u001b[0m\u001b[0;34m\u001b[0m\u001b[0;34m\u001b[0m\u001b[0m\n\u001b[1;32m   2358\u001b[0m                 \u001b[0margs\u001b[0m \u001b[0;34m=\u001b[0m \u001b[0;34m(\u001b[0m\u001b[0mmagic_arg_s\u001b[0m\u001b[0;34m,\u001b[0m \u001b[0mcell\u001b[0m\u001b[0;34m)\u001b[0m\u001b[0;34m\u001b[0m\u001b[0;34m\u001b[0m\u001b[0m\n\u001b[0;32m-> 2359\u001b[0;31m                 \u001b[0mresult\u001b[0m \u001b[0;34m=\u001b[0m \u001b[0mfn\u001b[0m\u001b[0;34m(\u001b[0m\u001b[0;34m*\u001b[0m\u001b[0margs\u001b[0m\u001b[0;34m,\u001b[0m \u001b[0;34m**\u001b[0m\u001b[0mkwargs\u001b[0m\u001b[0;34m)\u001b[0m\u001b[0;34m\u001b[0m\u001b[0;34m\u001b[0m\u001b[0m\n\u001b[0m\u001b[1;32m   2360\u001b[0m             \u001b[0;32mreturn\u001b[0m \u001b[0mresult\u001b[0m\u001b[0;34m\u001b[0m\u001b[0;34m\u001b[0m\u001b[0m\n\u001b[1;32m   2361\u001b[0m \u001b[0;34m\u001b[0m\u001b[0m\n",
            "\u001b[0;32m<decorator-gen-122>\u001b[0m in \u001b[0;36mR\u001b[0;34m(self, line, cell, local_ns)\u001b[0m\n",
            "\u001b[0;32m/usr/local/lib/python3.7/dist-packages/IPython/core/magic.py\u001b[0m in \u001b[0;36m<lambda>\u001b[0;34m(f, *a, **k)\u001b[0m\n\u001b[1;32m    185\u001b[0m     \u001b[0;31m# but it's overkill for just that one bit of state.\u001b[0m\u001b[0;34m\u001b[0m\u001b[0;34m\u001b[0m\u001b[0;34m\u001b[0m\u001b[0m\n\u001b[1;32m    186\u001b[0m     \u001b[0;32mdef\u001b[0m \u001b[0mmagic_deco\u001b[0m\u001b[0;34m(\u001b[0m\u001b[0marg\u001b[0m\u001b[0;34m)\u001b[0m\u001b[0;34m:\u001b[0m\u001b[0;34m\u001b[0m\u001b[0;34m\u001b[0m\u001b[0m\n\u001b[0;32m--> 187\u001b[0;31m         \u001b[0mcall\u001b[0m \u001b[0;34m=\u001b[0m \u001b[0;32mlambda\u001b[0m \u001b[0mf\u001b[0m\u001b[0;34m,\u001b[0m \u001b[0;34m*\u001b[0m\u001b[0ma\u001b[0m\u001b[0;34m,\u001b[0m \u001b[0;34m**\u001b[0m\u001b[0mk\u001b[0m\u001b[0;34m:\u001b[0m \u001b[0mf\u001b[0m\u001b[0;34m(\u001b[0m\u001b[0;34m*\u001b[0m\u001b[0ma\u001b[0m\u001b[0;34m,\u001b[0m \u001b[0;34m**\u001b[0m\u001b[0mk\u001b[0m\u001b[0;34m)\u001b[0m\u001b[0;34m\u001b[0m\u001b[0;34m\u001b[0m\u001b[0m\n\u001b[0m\u001b[1;32m    188\u001b[0m \u001b[0;34m\u001b[0m\u001b[0m\n\u001b[1;32m    189\u001b[0m         \u001b[0;32mif\u001b[0m \u001b[0mcallable\u001b[0m\u001b[0;34m(\u001b[0m\u001b[0marg\u001b[0m\u001b[0;34m)\u001b[0m\u001b[0;34m:\u001b[0m\u001b[0;34m\u001b[0m\u001b[0;34m\u001b[0m\u001b[0m\n",
            "\u001b[0;32m/usr/local/lib/python3.7/dist-packages/rpy2/ipython/rmagic.py\u001b[0m in \u001b[0;36mR\u001b[0;34m(self, line, cell, local_ns)\u001b[0m\n\u001b[1;32m    781\u001b[0m             \u001b[0;32mif\u001b[0m \u001b[0;32mnot\u001b[0m \u001b[0me\u001b[0m\u001b[0;34m.\u001b[0m\u001b[0mstdout\u001b[0m\u001b[0;34m.\u001b[0m\u001b[0mendswith\u001b[0m\u001b[0;34m(\u001b[0m\u001b[0me\u001b[0m\u001b[0;34m.\u001b[0m\u001b[0merr\u001b[0m\u001b[0;34m)\u001b[0m\u001b[0;34m:\u001b[0m\u001b[0;34m\u001b[0m\u001b[0;34m\u001b[0m\u001b[0m\n\u001b[1;32m    782\u001b[0m                 \u001b[0mprint\u001b[0m\u001b[0;34m(\u001b[0m\u001b[0me\u001b[0m\u001b[0;34m.\u001b[0m\u001b[0merr\u001b[0m\u001b[0;34m)\u001b[0m\u001b[0;34m\u001b[0m\u001b[0;34m\u001b[0m\u001b[0m\n\u001b[0;32m--> 783\u001b[0;31m             \u001b[0;32mraise\u001b[0m \u001b[0me\u001b[0m\u001b[0;34m\u001b[0m\u001b[0;34m\u001b[0m\u001b[0m\n\u001b[0m\u001b[1;32m    784\u001b[0m         \u001b[0;32mfinally\u001b[0m\u001b[0;34m:\u001b[0m\u001b[0;34m\u001b[0m\u001b[0;34m\u001b[0m\u001b[0m\n\u001b[1;32m    785\u001b[0m             \u001b[0;32mif\u001b[0m \u001b[0mself\u001b[0m\u001b[0;34m.\u001b[0m\u001b[0mdevice\u001b[0m \u001b[0;32min\u001b[0m \u001b[0;34m[\u001b[0m\u001b[0;34m'png'\u001b[0m\u001b[0;34m,\u001b[0m \u001b[0;34m'svg'\u001b[0m\u001b[0;34m]\u001b[0m\u001b[0;34m:\u001b[0m\u001b[0;34m\u001b[0m\u001b[0;34m\u001b[0m\u001b[0m\n",
            "\u001b[0;32m/usr/local/lib/python3.7/dist-packages/rpy2/ipython/rmagic.py\u001b[0m in \u001b[0;36mR\u001b[0;34m(self, line, cell, local_ns)\u001b[0m\n\u001b[1;32m    761\u001b[0m                     \u001b[0mreturn_output\u001b[0m \u001b[0;34m=\u001b[0m \u001b[0;32mFalse\u001b[0m\u001b[0;34m\u001b[0m\u001b[0;34m\u001b[0m\u001b[0m\n\u001b[1;32m    762\u001b[0m             \u001b[0;32melse\u001b[0m\u001b[0;34m:\u001b[0m\u001b[0;34m\u001b[0m\u001b[0;34m\u001b[0m\u001b[0m\n\u001b[0;32m--> 763\u001b[0;31m                 \u001b[0mtext_result\u001b[0m\u001b[0;34m,\u001b[0m \u001b[0mresult\u001b[0m\u001b[0;34m,\u001b[0m \u001b[0mvisible\u001b[0m \u001b[0;34m=\u001b[0m \u001b[0mself\u001b[0m\u001b[0;34m.\u001b[0m\u001b[0meval\u001b[0m\u001b[0;34m(\u001b[0m\u001b[0mcode\u001b[0m\u001b[0;34m)\u001b[0m\u001b[0;34m\u001b[0m\u001b[0;34m\u001b[0m\u001b[0m\n\u001b[0m\u001b[1;32m    764\u001b[0m                 \u001b[0mtext_output\u001b[0m \u001b[0;34m+=\u001b[0m \u001b[0mtext_result\u001b[0m\u001b[0;34m\u001b[0m\u001b[0;34m\u001b[0m\u001b[0m\n\u001b[1;32m    765\u001b[0m                 \u001b[0;32mif\u001b[0m \u001b[0mvisible\u001b[0m\u001b[0;34m:\u001b[0m\u001b[0;34m\u001b[0m\u001b[0;34m\u001b[0m\u001b[0m\n",
            "\u001b[0;32m/usr/local/lib/python3.7/dist-packages/rpy2/ipython/rmagic.py\u001b[0m in \u001b[0;36meval\u001b[0;34m(self, code)\u001b[0m\n\u001b[1;32m    271\u001b[0m                 \u001b[0mwarning_or_other_msg\u001b[0m \u001b[0;34m=\u001b[0m \u001b[0mself\u001b[0m\u001b[0;34m.\u001b[0m\u001b[0mflush\u001b[0m\u001b[0;34m(\u001b[0m\u001b[0;34m)\u001b[0m\u001b[0;34m\u001b[0m\u001b[0;34m\u001b[0m\u001b[0m\n\u001b[1;32m    272\u001b[0m                 raise RInterpreterError(code, str(exception),\n\u001b[0;32m--> 273\u001b[0;31m                                         warning_or_other_msg)\n\u001b[0m\u001b[1;32m    274\u001b[0m             \u001b[0mtext_output\u001b[0m \u001b[0;34m=\u001b[0m \u001b[0mself\u001b[0m\u001b[0;34m.\u001b[0m\u001b[0mflush\u001b[0m\u001b[0;34m(\u001b[0m\u001b[0;34m)\u001b[0m\u001b[0;34m\u001b[0m\u001b[0;34m\u001b[0m\u001b[0m\n\u001b[1;32m    275\u001b[0m             \u001b[0;32mreturn\u001b[0m \u001b[0mtext_output\u001b[0m\u001b[0;34m,\u001b[0m \u001b[0mvalue\u001b[0m\u001b[0;34m,\u001b[0m \u001b[0mvisible\u001b[0m\u001b[0;34m[\u001b[0m\u001b[0;36m0\u001b[0m\u001b[0;34m]\u001b[0m\u001b[0;34m\u001b[0m\u001b[0;34m\u001b[0m\u001b[0m\n",
            "\u001b[0;31mRInterpreterError\u001b[0m: Failed to parse and evaluate line 'install.package(\"float\")\\n'.\nR error message: 'Error in install.package(\"float\") : \\n  could not find function \"install.package\"'"
          ]
        }
      ]
    },
    {
      "cell_type": "code",
      "source": [
        "actual_result= robjects.FloatVector({0.78256331, 0.01013892, 0.93909211, 0.93171893, 0.97838549, 0.9377304, 0.05729306, 0.96406324, 0.30674558, 0.88423513, 0.98838939, 0.52518533, 0.15899424, 0.10595266, 0.08948024, 0.49998389, 0.36971785, 0.22523765, 0.604794, 0.04048216, 0.55971815, 0.00409338, 0.06031447, 0.832428, 0.02997866, 0.26498554, 0.07152355, 0.9884246, 0.0168044, 0.64804015, 0.2965188, 0.14913114, 0.9497351, 0.05940566, 0.98500799, 0.22879337,  0.09548048, 0.19285071, 0.14934963, 0.33025048, 0.22191112, 0.15581709,  0.14532238, 0.98067324})\n"
      ],
      "metadata": {
        "id": "uHSiozTONvoJ"
      },
      "execution_count": null,
      "outputs": []
    },
    {
      "cell_type": "code",
      "source": [
        "d = {'xgboost': robjects.IntVector(), 'rbf': robjects.IntVector(), 'mlp':robjects.IntVector()}\n",
        "dataf = robject.DataFrame(d)"
      ],
      "metadata": {
        "id": "t3IsW8dLHszp"
      },
      "execution_count": null,
      "outputs": []
    }
  ]
}